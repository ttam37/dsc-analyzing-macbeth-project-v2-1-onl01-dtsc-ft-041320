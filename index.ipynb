{
 "cells": [
  {
   "cell_type": "markdown",
   "metadata": {},
   "source": [
    "# Project: Analyzing Macbeth\n",
    "\n",
    "## Introduction\n",
    "Now we're going to do some rudimentary analysis of Shakespeare's classic play: Macbeth! You will get practice working with lists and dictionaries, conditionals, visualizing data, and thinking analytically about data.\n",
    "\n",
    "## Objectives\n",
    "You will be able to:\n",
    "* Apply string methods to make changes to a string\n",
    "* Use a `for` loop to iterate over a collection\n",
    "* Assign values in a dictionary\n",
    "\n",
    "## Getting the Data\n",
    "Here we start by importing a Python package called `requests`. We'll use it to pull the transcript of Macbeth from the [Project Gutenberg](https://www.gutenberg.org/) website. We'll also preview a few details about what is now stored in the variable `macbeth`. As you can see, it's a string with 120,253 characters - the first 500 of which are printed below. "
   ]
  },
  {
   "cell_type": "code",
   "execution_count": 4,
   "metadata": {},
   "outputs": [
    {
     "name": "stdout",
     "output_type": "stream",
     "text": [
      "<class 'str'>\n",
      "120253\n",
      "﻿\r\n",
      "\r\n",
      "***The Project Gutenberg's Etext of Shakespeare's First Folio***\r\n",
      "********************The Tragedie of Macbeth*********************\r\n",
      "\r\n",
      "\r\n",
      "\r\n",
      "*******************************************************************\r\n",
      "THIS EBOOK WAS ONE OF PROJECT GUTENBERG'S EARLY FILES PRODUCED AT A\r\n",
      "TIME WHEN PROOFING METHODS AND TOOLS WERE NOT WELL DEVELOPED. THERE\r\n",
      "IS AN IMPROVED EDITION OF THIS TITLE WHICH MAY BE VIEWED AS EBOOK\r\n",
      "(#1533) at https://www.gutenberg.org/ebooks/1533\r\n",
      "*********************************\n"
     ]
    }
   ],
   "source": [
    "import requests\n",
    "macbeth = requests.get('http://www.gutenberg.org/cache/epub/2264/pg2264.txt').text\n",
    "\n",
    "print(type(macbeth))\n",
    "print(len(macbeth))\n",
    "print(macbeth[:500])"
   ]
  },
  {
   "cell_type": "markdown",
   "metadata": {},
   "source": [
    "## Your Task\n",
    "\n",
    "Your task is to create a bar graph of the 25 most common words in Shakespeare's Macbeth.  \n",
    "\n",
    "\n",
    "A common Python programming pattern to count objects, produce histograms, or update statistics is to make calls to a dictionary as you iterate through a list. For example, given a list of words, you can create a dictionary to store counts and then iterate through the list of words, checking how many times each word has appeared using your dictionary, and updating the dictionary count now that you've seen that word again. The `.get()` dictionary method is very useful in doing this. Read the docstring for the `.get()` method and use it along with the pseudocode below to create a bar graph of the 25 most common words from the transcript of Macbeth which has been loaded into the variable 'macbeth'. Be sure to include a title and appropriate labels for your graph.\n",
    "\n",
    "To get the 25 *most common* words, you will have to sort your counts. If you are not super sure how to do this, checkout out the [Sorting HOW TO](https://docs.python.org/3/howto/sorting.html) Python documentation. Part of being a data scientist is figuring out how to do tasks that you may not have done before. Remember, in these situations, Google is your friend!"
   ]
  },
  {
   "cell_type": "code",
   "execution_count": 13,
   "metadata": {},
   "outputs": [
    {
     "name": "stdout",
     "output_type": "stream",
     "text": [
      "[('the', 620), ('and', 427), ('of', 395), ('to', 367), ('I', 326), ('a', 255), ('you', 193), ('in', 190), ('is', 185), ('my', 170), ('And', 169), ('that', 158), ('not', 142), ('with', 141), ('Macb.', 137), ('be', 133), ('The', 131), ('it', 128), ('his', 127), ('your', 122), ('our', 116), ('haue', 114), ('this', 108), ('for', 100), ('That', 80)]\n"
     ]
    }
   ],
   "source": [
    "import numpy as np\n",
    "import matplotlib.pyplot as plt\n",
    "%matplotlib inline\n",
    "\n",
    "# Your code here\n",
    "\n",
    "# Pseudo-code outline\n",
    "\n",
    "# Split the transcript into words\n",
    "macbeth_split = macbeth.split()\n",
    "\n",
    "# Create a dictionary\n",
    "freq = {}\n",
    "\n",
    "# Iterate through the text of Macbeth\n",
    "for word in macbeth_split:\n",
    "    if word in freq:\n",
    "        freq[word] += 1\n",
    "    else:\n",
    "        freq[word] = 1\n",
    "        \n",
    "# Update word counts\n",
    "counts = list(freq.items())\n",
    "\n",
    "# Sort words by counts in descending order\n",
    "sorted_count = sorted(counts, key = lambda x: x[1], reverse=True)[:25]\n",
    "print(sorted_count)"
   ]
  },
  {
   "cell_type": "code",
   "execution_count": 14,
   "metadata": {},
   "outputs": [
    {
     "data": {
      "image/png": "[encoded data removed]",
      "text/plain": [
       "<Figure size 1080x720 with 1 Axes>"
      ]
     },
     "metadata": {
      "needs_background": "light"
     },
     "output_type": "display_data"
    }
   ],
   "source": [
    "# Create Bar Graph\n",
    "x = [key[0] for key in sorted_count]\n",
    "y = [value[1] for value in sorted_count]\n",
    "\n",
    "plt.figure(figsize=(15,10))\n",
    "\n",
    "plt.bar(x,y)\n",
    "\n",
    "# Include descriptive titles and labels\n",
    "\n",
    "plt.xlabel('Word')\n",
    "plt.ylabel('Word Count')\n",
    "plt.title('Top 25 Words in Macbeth')\n",
    "\n",
    "plt.show()"
   ]
  },
  {
   "cell_type": "markdown",
   "metadata": {},
   "source": [
    "## Level Up (Optional)\n",
    "This project should take you about an hour and a half to complete. If you're done much more quickly than that and are not behind in the course, feel free to deepen your knowledge by completing any or all of the following tasks until you run out of time:\n",
    "* Create a list of top characters by mentions of their names \n",
    "* Split the text by which character is talking\n",
    "* Create subgraphs of the most common words by character\n",
    "* Reduce the string to the text of the play itself. (Remove any initial notes, forward, introduction, appendix, etc.)\n",
    "* Come up with some other fun analyses of the text!\n",
    "\n",
    "## Summary\n",
    "Congratulations! You've got some extra practice combining various data types into useful programming patterns and done an initial analysis of a classic text!"
   ]
  },
  {
   "cell_type": "code",
   "execution_count": null,
   "metadata": {},
   "outputs": [],
   "source": []
  },
  {
   "cell_type": "markdown",
   "metadata": {},
   "source": [
    "## Study Group"
   ]
  },
  {
   "cell_type": "code",
   "execution_count": null,
   "metadata": {},
   "outputs": [],
   "source": [
    "import numpy #tab \n",
    "np.random.seed(42)"
   ]
  },
  {
   "cell_type": "code",
   "execution_count": null,
   "metadata": {},
   "outputs": [],
   "source": [
    "sum() #shift tab X # of times for detailed docstring"
   ]
  },
  {
   "cell_type": "markdown",
   "metadata": {},
   "source": [
    "## List Comprehension"
   ]
  },
  {
   "cell_type": "code",
   "execution_count": 3,
   "metadata": {},
   "outputs": [
    {
     "name": "stdout",
     "output_type": "stream",
     "text": [
      "[4, 13, 1, 20, 20, 3, 20, 13, 12, 12]\n"
     ]
    }
   ],
   "source": [
    "#way 1\n",
    "import random\n",
    "list_of_numbers = [] # make a list of 10 numbers\n",
    "for i in range(10):\n",
    "    random_number = random.randint(0,20)\n",
    "    list_of_numbers.append(random_number)\n",
    "    \n",
    "print(list_of_numbers)"
   ]
  },
  {
   "cell_type": "code",
   "execution_count": 9,
   "metadata": {},
   "outputs": [
    {
     "name": "stdout",
     "output_type": "stream",
     "text": [
      "[3, 19, 15, 4, 18, 17, 2, 13, 6, 20]\n"
     ]
    }
   ],
   "source": [
    "#way 2\n",
    "list_of_numbers = [random.randint(0,20) for i in range(10)]\n",
    "print(list_of_numbers)"
   ]
  },
  {
   "cell_type": "markdown",
   "metadata": {},
   "source": [
    "## Dictionary"
   ]
  },
  {
   "cell_type": "code",
   "execution_count": 62,
   "metadata": {},
   "outputs": [
    {
     "name": "stdout",
     "output_type": "stream",
     "text": [
      "{'key1': 0}\n",
      "0\n",
      "0\n",
      "key does not exist\n"
     ]
    }
   ],
   "source": [
    "from string import ascii_letters\n",
    "random.choice(ascii_letters) #pop a random one from ascii_letters\n",
    "\n",
    "#what is a dictionary?\n",
    "#collection of key/value pairs (hashable faster in memory)\n",
    "d = {\"key1\":0}\n",
    "print(d)\n",
    "\n",
    "print(d.get(\"key1\")) #same thing, but better (other languages uses \"get\")\n",
    "print(d.get(\"key1\",\"key does not exist\")) #if key 1 in d: return value, otherwise return key does not exist\n",
    "print(d.get(\"key2\",\"key does not exist\"))"
   ]
  },
  {
   "cell_type": "code",
   "execution_count": 31,
   "metadata": {},
   "outputs": [
    {
     "name": "stdout",
     "output_type": "stream",
     "text": [
      "{'l': 2, 'G': 4, 'F': 2, 'J': 2, 'K': 1, 'm': 1, 'I': 1, 'U': 1, 'S': 1, 'O': 1, 'M': 2, 'h': 1, 'o': 1, 'Q': 1, 'w': 1, 'P': 1, 'X': 1, 'v': 2, 'p': 1, 'c': 1, 'e': 3, 'Z': 1, 'i': 1, 'D': 3, 'V': 1, 'y': 1, 'W': 1, 'f': 1}\n"
     ]
    }
   ],
   "source": [
    "letter_dict = {} # letter:counts\n",
    "for i in range(40):\n",
    "    letter_key = random.choice(ascii_letters)\n",
    "    if letter_key not in letter_dict.keys():\n",
    "        letter_dict[letter_key] = 1 #if I haven't seen it, create the key value starting with 1\n",
    "    else:\n",
    "        letter_dict[letter_key] += 1 #otherwise add 1 to the value\n",
    "        \n",
    "#BETTER WAY\n",
    "letter_dict = {} # letter:counts\n",
    "for i in range(40):\n",
    "    letter_key = random.choice(ascii_letters)\n",
    "    letter_dict[letter_key] = letter_dict.get(letter_key,0) + 1 #from letter_dict add letter_key:+1, otherwise 0 + 1\n",
    "print(letter_dict)\n",
    "\n",
    "##almost always all data comes in as a dictionary"
   ]
  },
  {
   "cell_type": "code",
   "execution_count": 34,
   "metadata": {},
   "outputs": [
    {
     "data": {
      "text/plain": [
       "{'name': 'thomas',\n",
       " 'age': 28,\n",
       " 'careers': [{'job_title': 'swim instructor', 'year': 2012}]}"
      ]
     },
     "execution_count": 34,
     "metadata": {},
     "output_type": "execute_result"
    }
   ],
   "source": [
    "#making a dictionary\n",
    "d = {}\n",
    "d['name'] = 'thomas'\n",
    "d['age'] = 28\n",
    "d['careers'] = [{'job_title':'swim instructor','year':2012}]\n",
    "d"
   ]
  },
  {
   "cell_type": "code",
   "execution_count": 39,
   "metadata": {},
   "outputs": [
    {
     "name": "stdout",
     "output_type": "stream",
     "text": [
      "{'name': 'thomas', 'age': 28, 'careers': [{'job_title': 'swim instructor', 'year': 2012}]}\n"
     ]
    }
   ],
   "source": [
    "from pprint import pprint\n",
    "print(d)"
   ]
  },
  {
   "cell_type": "code",
   "execution_count": 42,
   "metadata": {},
   "outputs": [
    {
     "data": {
      "text/plain": [
       "'Swim Instructor'"
      ]
     },
     "execution_count": 42,
     "metadata": {},
     "output_type": "execute_result"
    }
   ],
   "source": [
    "d['careers'][0].get('job_title').title()"
   ]
  },
  {
   "cell_type": "markdown",
   "metadata": {},
   "source": [
    "## Zip Function"
   ]
  },
  {
   "cell_type": "code",
   "execution_count": 53,
   "metadata": {},
   "outputs": [
    {
     "data": {
      "text/plain": [
       "([4, 2, 7, 9, 9, 10, 1, 3, 2, 9, 2, 7, 8, 8, 7],\n",
       " [7, 0, 5, 0, 6, 3, 8, 3, 0, 6, 6, 4, 5, 8, 10])"
      ]
     },
     "execution_count": 53,
     "metadata": {},
     "output_type": "execute_result"
    }
   ],
   "source": [
    "lst1 = [random.randint(0,10) for i in range(15)]\n",
    "lst2 = [random.randint(0,10) for i in range(15)]\n",
    "lst1,lst2"
   ]
  },
  {
   "cell_type": "code",
   "execution_count": 56,
   "metadata": {},
   "outputs": [
    {
     "name": "stdout",
     "output_type": "stream",
     "text": [
      "[11, 2, 12, 9, 15, 13, 9, 6, 2, 15, 8, 11, 13, 16, 17]\n",
      "[11, 2, 12, 9, 15, 13, 9, 6, 2, 15, 8, 11, 13, 16, 17]\n",
      "[11, 2, 12, 9, 15, 13, 9, 6, 2, 15, 8, 11, 13, 16, 17]\n"
     ]
    }
   ],
   "source": [
    "#way 1\n",
    "lst3 = []\n",
    "for i in range(len(lst1)):\n",
    "    e1 = lst1[i]\n",
    "    e2 = lst2[i]\n",
    "    lst3.append(e1 + e2)\n",
    "\n",
    "print(lst3)\n",
    "\n",
    "lst4 = []\n",
    "#way 2 (better)\n",
    "for i,j in zip(lst1, lst2):\n",
    "    lst4.append(i + j)\n",
    "    \n",
    "print(lst4)\n",
    "\n",
    "#way 3 (even better)\n",
    "lst5 = [i + j for i,j in zip(lst1,lst2)]\n",
    "print(lst5)"
   ]
  },
  {
   "cell_type": "markdown",
   "metadata": {},
   "source": [
    "## Lambdas"
   ]
  },
  {
   "cell_type": "code",
   "execution_count": 66,
   "metadata": {},
   "outputs": [
    {
     "data": {
      "text/plain": [
       "'this is _ string with some letters _nd stuff for the s_ke of _n ex_mple'"
      ]
     },
     "execution_count": 66,
     "metadata": {},
     "output_type": "execute_result"
    }
   ],
   "source": [
    "# def remove_as(string):\n",
    "#     new_string = string.replace('a','')\n",
    "#     return new_string\n",
    "\n",
    "#remove_as = lambda input: output\n",
    "remove_as = lambda string: string.replace('a','_')\n",
    "\n",
    "string1 = 'this is a string with some letters and stuff for the sake of an example'\n",
    "\n",
    "remove_as(string1)"
   ]
  },
  {
   "cell_type": "code",
   "execution_count": null,
   "metadata": {},
   "outputs": [],
   "source": []
  }
 ],
 "metadata": {
  "kernelspec": {
   "display_name": "Python 3",
   "language": "python",
   "name": "python3"
  },
  "language_info": {
   "codemirror_mode": {
    "name": "ipython",
    "version": 3
   },
   "file_extension": ".py",
   "mimetype": "text/x-python",
   "name": "python",
   "nbconvert_exporter": "python",
   "pygments_lexer": "ipython3",
   "version": "3.7.4"
  }
 },
 "nbformat": 4,
 "nbformat_minor": 2
}
